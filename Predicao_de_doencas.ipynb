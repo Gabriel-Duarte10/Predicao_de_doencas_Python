{
  "nbformat": 4,
  "nbformat_minor": 0,
  "metadata": {
    "colab": {
      "name": "Untitled6.ipynb",
      "provenance": [],
      "collapsed_sections": [],
      "authorship_tag": "ABX9TyM23TrXrXLNSxBJ2wGfkoKR",
      "include_colab_link": true
    },
    "kernelspec": {
      "name": "python3",
      "display_name": "Python 3"
    },
    "language_info": {
      "name": "python"
    }
  },
  "cells": [
    {
      "cell_type": "markdown",
      "metadata": {
        "id": "view-in-github",
        "colab_type": "text"
      },
      "source": [
        "<a href=\"https://colab.research.google.com/github/Gabriel-Duarte10/Predicao_de_doencas_Python/blob/master/Predicao_de_doencas.ipynb\" target=\"_parent\"><img src=\"https://colab.research.google.com/assets/colab-badge.svg\" alt=\"Open In Colab\"/></a>"
      ]
    },
    {
      "cell_type": "markdown",
      "source": [
        "**Projeto de Predição de Doenças usando IA**"
      ],
      "metadata": {
        "id": "2-5J2CzapJU1"
      }
    },
    {
      "cell_type": "markdown",
      "source": [
        "Importando blibliotecas de numpy e pandas"
      ],
      "metadata": {
        "id": "HtaTnGbApaPi"
      }
    },
    {
      "cell_type": "code",
      "execution_count": null,
      "metadata": {
        "id": "q3pnf1c_pHY_"
      },
      "outputs": [],
      "source": [
        "from tkinter import *\n",
        "import numpy as np\n",
        "import pandas as pd\n",
        "from sklearn import tree\n",
        "from sklearn.metrics import accuracy_score\n",
        "from sklearn.ensemble import RandomForestClassifier\n",
        "from sklearn.naive_bayes import GaussianNB\n",
        "import pdb"
      ]
    },
    {
      "cell_type": "markdown",
      "source": [
        "Pegados dados do Excel de Traning e Testing"
      ],
      "metadata": {
        "id": "l5f8ii5G3xV0"
      }
    },
    {
      "cell_type": "code",
      "source": [
        "df=pd.read_csv(\"/content/Training.csv\")\n",
        "df2=pd.read_csv(\"/content/Testing.csv\")"
      ],
      "metadata": {
        "id": "Rw8ByLdV4B8k"
      },
      "execution_count": null,
      "outputs": []
    },
    {
      "cell_type": "markdown",
      "source": [
        "Lista de Sintomas e listas de Doenças e preenchendo l2 com zeros do mesmo tamanho de l1"
      ],
      "metadata": {
        "id": "TzldkFyg4kLy"
      }
    },
    {
      "cell_type": "code",
      "source": [
        "list1 = df2.columns.tolist()\n",
        "list1.remove('prognosis')\n",
        "#remover coluna de prognostico da lista\n",
        "doencas = df2['prognosis'].tolist()\n",
        "#Listas de doenças\n",
        "list2=[]\n",
        "for x in range(0,len(list1)):\n",
        "    list2.append(0)\n",
        "#Criando uma lista que tenha o mesmo tamanho da lista de sintomas preenchendo elas com zero"
      ],
      "metadata": {
        "id": "mcIpSE9D4vBq"
      },
      "execution_count": null,
      "outputs": []
    },
    {
      "cell_type": "markdown",
      "source": [
        "Convertendo variaveis em categoricas em numeros"
      ],
      "metadata": {
        "id": "hAOy6R81Flab"
      }
    },
    {
      "cell_type": "code",
      "source": [
        "df.replace({'prognosis':{'Fungal infection':0,'Allergy':1,'GERD':2,'Chronic cholestasis':3,'Drug Reaction':4,'Peptic ulcer diseae':5,\n",
        "                         'AIDS':6,'Diabetes ':7,'Gastroenteritis':8,'Bronchial Asthma':9,'Hypertension ':10, 'Migraine':11,\n",
        "                         'Cervical spondylosis':12,'Paralysis (brain hemorrhage)':13,'Jaundice':14,'Malaria':15,'Chicken pox':16,\n",
        "                         'Dengue':17,'Typhoid':18,'hepatitis A':19,'Hepatitis B':20,'Hepatitis C':21,'Hepatitis D':22,'Hepatitis E':23,\n",
        "                         'Alcoholic hepatitis':24,'Tuberculosis':25, 'Common Cold':26,'Pneumonia':27,'Dimorphic hemmorhoids(piles)':28,\n",
        "                         'Heart attack':29,'Varicose veins':30,'Hypothyroidism':31, 'Hyperthyroidism':32,'Hypoglycemia':33,\n",
        "                         'Osteoarthristis':34,'Arthritis':35,'(vertigo) Paroymsal  Positional Vertigo':36,'Acne':37,\n",
        "                         'Urinary tract infection':38,'Psoriasis':39,'Impetigo':40}},inplace=True)\n",
        "\n",
        "df2.replace({'prognosis':{'Fungal infection':0,'Allergy':1,'GERD':2,'Chronic cholestasis':3,'Drug Reaction':4,'Peptic ulcer diseae':5,\n",
        "                         'AIDS':6,'Diabetes ':7,'Gastroenteritis':8,'Bronchial Asthma':9,'Hypertension ':10, 'Migraine':11,\n",
        "                         'Cervical spondylosis':12,'Paralysis (brain hemorrhage)':13,'Jaundice':14,'Malaria':15,'Chicken pox':16,\n",
        "                         'Dengue':17,'Typhoid':18,'hepatitis A':19,'Hepatitis B':20,'Hepatitis C':21,'Hepatitis D':22,'Hepatitis E':23,\n",
        "                         'Alcoholic hepatitis':24,'Tuberculosis':25, 'Common Cold':26,'Pneumonia':27,'Dimorphic hemmorhoids(piles)':28,\n",
        "                         'Heart attack':29,'Varicose veins':30,'Hypothyroidism':31, 'Hyperthyroidism':32,'Hypoglycemia':33,\n",
        "                         'Osteoarthristis':34,'Arthritis':35,'(vertigo) Paroymsal  Positional Vertigo':36,'Acne':37,\n",
        "                         'Urinary tract infection':38,'Psoriasis':39,'Impetigo':40}},inplace=True)\n"
      ],
      "metadata": {
        "id": "Aqe4rmDNFdwU"
      },
      "execution_count": null,
      "outputs": []
    },
    {
      "cell_type": "markdown",
      "source": [
        "Deixando em uma unica linha lista de doenças e sintomas de Training e de Testing"
      ],
      "metadata": {
        "id": "x4GjcdQpIpm1"
      }
    },
    {
      "cell_type": "code",
      "source": [
        "X= df[list1]\n",
        "y = df[[\"prognosis\"]]\n",
        "np.ravel(y)\n",
        "\n",
        "X_test= df2[list1]\n",
        "y_test = df2[[\"prognosis\"]]\n",
        "np.ravel(y_test)"
      ],
      "metadata": {
        "colab": {
          "base_uri": "https://localhost:8080/"
        },
        "id": "rjJO19OtFrdV",
        "outputId": "ac69e976-142d-4d8f-d180-6b221922e640"
      },
      "execution_count": null,
      "outputs": [
        {
          "output_type": "execute_result",
          "data": {
            "text/plain": [
              "array([ 0,  1,  2,  3,  4,  5,  6,  7,  8,  9, 10, 11, 12, 13, 14, 15, 16,\n",
              "       17, 18, 19, 20, 21, 22, 23, 24, 25, 26, 27, 28, 29, 30, 31, 32, 33,\n",
              "       34, 35, 36, 37, 38, 39, 40])"
            ]
          },
          "metadata": {},
          "execution_count": 33
        }
      ]
    },
    {
      "cell_type": "markdown",
      "source": [
        "Input para adicionar a lista de sintomas pelo usuario onde serão divididas cada sintoma por \" , \""
      ],
      "metadata": {
        "id": "digMJ7XkJJTN"
      }
    },
    {
      "cell_type": "code",
      "source": [
        "sintomas = input().split(\",\")"
      ],
      "metadata": {
        "colab": {
          "base_uri": "https://localhost:8080/"
        },
        "id": "pV6tqXJwJIGK",
        "outputId": "e915482c-9c35-4c31-e4e9-da392fb1a4d3"
      },
      "execution_count": null,
      "outputs": [
        {
          "name": "stdout",
          "output_type": "stream",
          "text": [
            "fatigue,high_fever,headache,nausea,loss_of_appetite,pain_behind_the_eyes,back_pain,malaise,muscle_pain,red_spots_over_body\n"
          ]
        }
      ]
    },
    {
      "cell_type": "code",
      "source": [
        "def NaiveBayes():\n",
        "    gnb = GaussianNB()\n",
        "    gnb=gnb.fit(X, y)\n",
        "    y_pred=gnb.predict(X_test)\n",
        "  \n",
        "    for i in range(0,len(list1)):\n",
        "        for j in sintomas:\n",
        "            if(j==list1[i]):\n",
        "                list2[i]=1\n",
        "    resp = gnb.predict([list2])\n",
        "    \n",
        "    for a in range(0,len(doencas)):\n",
        "        if(resp[0] == a):\n",
        "            print(doencas[a])\n",
        "            break\n",
        "NaiveBayes()"
      ],
      "metadata": {
        "colab": {
          "base_uri": "https://localhost:8080/"
        },
        "id": "NbatNBdNJgGO",
        "outputId": "3e87f337-2ddb-4c07-e877-b29503b65d79"
      },
      "execution_count": null,
      "outputs": [
        {
          "output_type": "stream",
          "name": "stdout",
          "text": [
            "Dengue\n"
          ]
        },
        {
          "output_type": "stream",
          "name": "stderr",
          "text": [
            "/usr/local/lib/python3.7/dist-packages/sklearn/utils/validation.py:993: DataConversionWarning: A column-vector y was passed when a 1d array was expected. Please change the shape of y to (n_samples, ), for example using ravel().\n",
            "  y = column_or_1d(y, warn=True)\n",
            "/usr/local/lib/python3.7/dist-packages/sklearn/base.py:451: UserWarning: X does not have valid feature names, but GaussianNB was fitted with feature names\n",
            "  \"X does not have valid feature names, but\"\n"
          ]
        }
      ]
    }
  ]
}