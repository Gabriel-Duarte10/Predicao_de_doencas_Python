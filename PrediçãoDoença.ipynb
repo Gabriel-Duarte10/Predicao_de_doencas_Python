{
  "nbformat": 4,
  "nbformat_minor": 0,
  "metadata": {
    "colab": {
      "name": "PrediçãoDoença.ipynb",
      "provenance": [],
      "collapsed_sections": [],
      "include_colab_link": true
    },
    "kernelspec": {
      "name": "python3",
      "display_name": "Python 3"
    },
    "language_info": {
      "name": "python"
    }
  },
  "cells": [
    {
      "cell_type": "markdown",
      "metadata": {
        "id": "view-in-github",
        "colab_type": "text"
      },
      "source": [
        "<a href=\"https://colab.research.google.com/github/Gabriel-Duarte10/Predicao_de_doencas_Python/blob/master/Predi%C3%A7%C3%A3oDoen%C3%A7a.ipynb\" target=\"_parent\"><img src=\"https://colab.research.google.com/assets/colab-badge.svg\" alt=\"Open In Colab\"/></a>"
      ]
    },
    {
      "cell_type": "markdown",
      "source": [
        "**Projeto de Predição de Doenças usando IA**"
      ],
      "metadata": {
        "id": "2-5J2CzapJU1"
      }
    },
    {
      "cell_type": "markdown",
      "source": [
        "Importando blibliotecas de numpy e pandas"
      ],
      "metadata": {
        "id": "HtaTnGbApaPi"
      }
    },
    {
      "cell_type": "code",
      "execution_count": 297,
      "metadata": {
        "id": "q3pnf1c_pHY_"
      },
      "outputs": [],
      "source": [
        "from tkinter import *\n",
        "import numpy as np\n",
        "import pandas as pd\n",
        "from sklearn import tree\n",
        "from sklearn.metrics import accuracy_score\n",
        "from sklearn.ensemble import RandomForestClassifier\n",
        "from sklearn.naive_bayes import GaussianNB\n",
        "import pdb"
      ]
    },
    {
      "cell_type": "markdown",
      "source": [
        "Pegados dados do Excel de Traning e Testing"
      ],
      "metadata": {
        "id": "l5f8ii5G3xV0"
      }
    },
    {
      "cell_type": "code",
      "source": [
        "df=pd.read_csv(\"/content/Training.csv\")\n",
        "df2=pd.read_csv(\"/content/Testing.csv\")"
      ],
      "metadata": {
        "id": "Rw8ByLdV4B8k"
      },
      "execution_count": 298,
      "outputs": []
    },
    {
      "cell_type": "markdown",
      "source": [
        "Lista de Sintomas e listas de Doenças e preenchendo l2 com zeros do mesmo tamanho de l1"
      ],
      "metadata": {
        "id": "TzldkFyg4kLy"
      }
    },
    {
      "cell_type": "code",
      "source": [
        "list1 = df2.columns.tolist()\n",
        "list1.remove('prognosis')\n",
        "#remover coluna de prognostico da lista\n",
        "doencas = df2['prognosis']\n",
        "#Listas de doenças\n",
        "list2=[]\n",
        "for x in range(0,len(list1)):\n",
        "    list2.append(0)\n",
        "#Criando uma lista que tenha o mesmo tamanho da lista de sintomas preenchendo elas com zero"
      ],
      "metadata": {
        "id": "mcIpSE9D4vBq"
      },
      "execution_count": 299,
      "outputs": []
    },
    {
      "cell_type": "markdown",
      "source": [
        "Convertendo variaveis em categoricas em numeros"
      ],
      "metadata": {
        "id": "hAOy6R81Flab"
      }
    },
    {
      "cell_type": "code",
      "source": [
        "from sklearn.preprocessing import LabelEncoder\n",
        "le = LabelEncoder()\n",
        "labels = df['prognosis'].unique()\n",
        "le = LabelEncoder()\n",
        "le.fit(labels)\n",
        "df['prognosis'] = le.transform(df['prognosis'])\n",
        "df2['prognosis'] = le.transform(df2['prognosis'])"
      ],
      "metadata": {
        "id": "Aqe4rmDNFdwU"
      },
      "execution_count": 300,
      "outputs": []
    },
    {
      "cell_type": "markdown",
      "source": [
        "Deixando em uma unica linha lista de doenças e sintomas de Training e de Testing"
      ],
      "metadata": {
        "id": "x4GjcdQpIpm1"
      }
    },
    {
      "cell_type": "code",
      "source": [
        "X= df[list1]\n",
        "y = df[[\"prognosis\"]]\n",
        "np.ravel(y)\n",
        "\n",
        "X_test= df2[list1]\n",
        "y_test = df2[[\"prognosis\"]]\n",
        "np.ravel(y_test)"
      ],
      "metadata": {
        "colab": {
          "base_uri": "https://localhost:8080/"
        },
        "id": "rjJO19OtFrdV",
        "outputId": "effbcd95-a11e-437d-b357-b290d490b8a1"
      },
      "execution_count": 301,
      "outputs": [
        {
          "output_type": "execute_result",
          "data": {
            "text/plain": [
              "array([15,  4, 16,  9, 14, 33,  1, 12, 17,  6, 23, 30,  7, 32, 28, 29,  8,\n",
              "       11, 37, 40, 19, 20, 21, 22,  3, 36, 10, 34, 13, 18, 39, 26, 24, 25,\n",
              "       31,  5,  0,  2, 38, 35, 27])"
            ]
          },
          "metadata": {},
          "execution_count": 301
        }
      ]
    },
    {
      "cell_type": "markdown",
      "source": [
        "Input para adicionar a lista de sintomas pelo usuario onde serão divididas cada sintoma por \" , \""
      ],
      "metadata": {
        "id": "digMJ7XkJJTN"
      }
    },
    {
      "cell_type": "code",
      "source": [
        "sintomas = input().split(\",\")"
      ],
      "metadata": {
        "colab": {
          "base_uri": "https://localhost:8080/"
        },
        "id": "pV6tqXJwJIGK",
        "outputId": "9ebff56c-13c5-49a4-84aa-7f6c1771852e"
      },
      "execution_count": 302,
      "outputs": [
        {
          "name": "stdout",
          "output_type": "stream",
          "text": [
            "fatigue,weight_gain,phlegm,sinus_pressure\n"
          ]
        }
      ]
    },
    {
      "cell_type": "code",
      "source": [
        "gnb = GaussianNB()\n",
        "gnb=gnb.fit(X, y)\n",
        "y_pred=gnb.predict(X_test)\n",
        "\n",
        "for i in range(0,len(list1)):\n",
        "    for j in sintomas:\n",
        "        if(j==list1[i]):\n",
        "            list2[i]=1\n",
        "yp = gnb.predict_proba([list2])\n",
        "df_prob = pd.DataFrame({'Prognóstico':np.argsort(-yp)[0], 'Probabilidade (%)':np.sort(-yp)[0]*(-100)})\n",
        "pd.options.display.float_format = '{:.2f}'.format\n",
        "# df_prob\n",
        "doenca = df_prob.loc[0]\n",
        "print(\"Doença: \" + doencas.loc[doenca[\"Prognóstico\"]])\n",
        "print(\"Probabilidade: \" + str(doenca[\"Probabilidade (%)\"]))\n",
        "\n",
        "doenca = df_prob.loc[1]\n",
        "print(\"Doença: \" + doencas.loc[doenca[\"Prognóstico\"]])\n",
        "print(\"Probabilidade: \" + str(doenca[\"Probabilidade (%)\"]))\n",
        "\n",
        "doenca = df_prob.loc[2]\n",
        "print(\"Doença: \" + doencas.loc[doenca[\"Prognóstico\"]])\n",
        "print(\"Probabilidade: \" + str(doenca[\"Probabilidade (%)\"]))\n"
      ],
      "metadata": {
        "colab": {
          "base_uri": "https://localhost:8080/"
        },
        "id": "NbatNBdNJgGO",
        "outputId": "f8e0974d-d643-41be-ae1c-39c50f41ef69"
      },
      "execution_count": 303,
      "outputs": [
        {
          "output_type": "stream",
          "name": "stdout",
          "text": [
            "Doença: Hepatitis B\n",
            "Probabilidade: 58.632211518487395\n",
            "Doença: AIDS\n",
            "Probabilidade: 41.36783300039268\n",
            "Doença: Psoriasis\n",
            "Probabilidade: 3.109715398217133e-07\n"
          ]
        },
        {
          "output_type": "stream",
          "name": "stderr",
          "text": [
            "/usr/local/lib/python3.7/dist-packages/sklearn/utils/validation.py:993: DataConversionWarning: A column-vector y was passed when a 1d array was expected. Please change the shape of y to (n_samples, ), for example using ravel().\n",
            "  y = column_or_1d(y, warn=True)\n",
            "/usr/local/lib/python3.7/dist-packages/sklearn/base.py:451: UserWarning: X does not have valid feature names, but GaussianNB was fitted with feature names\n",
            "  \"X does not have valid feature names, but\"\n"
          ]
        }
      ]
    }
  ]
}